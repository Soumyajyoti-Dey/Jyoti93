{
  "nbformat": 4,
  "nbformat_minor": 0,
  "metadata": {
    "colab": {
      "provenance": [],
      "gpuType": "T4",
      "include_colab_link": true
    },
    "kernelspec": {
      "name": "python3",
      "display_name": "Python 3"
    },
    "language_info": {
      "name": "python"
    },
    "accelerator": "GPU"
  },
  "cells": [
    {
      "cell_type": "markdown",
      "metadata": {
        "id": "view-in-github",
        "colab_type": "text"
      },
      "source": [
        "<a href=\"https://colab.research.google.com/github/Soumyajyoti-Dey/Jyoti93/blob/main/CLIP_Demo.ipynb\" target=\"_parent\"><img src=\"https://colab.research.google.com/assets/colab-badge.svg\" alt=\"Open In Colab\"/></a>"
      ]
    },
    {
      "cell_type": "code",
      "execution_count": null,
      "metadata": {
        "id": "c35NC8hppb3w"
      },
      "outputs": [],
      "source": [
        "!pip install git+https://github.com/openai/CLIP.git"
      ]
    },
    {
      "cell_type": "code",
      "source": [
        "import torch\n",
        "import clip\n",
        "from PIL import Image\n",
        "device = \"cuda\"\n",
        "model, preprocess = clip.load(\"ViT-B/32\", device = device)\n",
        "img = Image.open(\"img_out.jpg\")\n",
        "preprocessed_img = preprocess(img).cuda()\n",
        "preprocess"
      ],
      "metadata": {
        "colab": {
          "base_uri": "https://localhost:8080/"
        },
        "id": "3Y5HbjN5pxal",
        "outputId": "d4527866-737b-4724-b765-cb49b1eb18dc"
      },
      "execution_count": null,
      "outputs": [
        {
          "output_type": "execute_result",
          "data": {
            "text/plain": [
              "Compose(\n",
              "    Resize(size=224, interpolation=bicubic, max_size=None, antialias=warn)\n",
              "    CenterCrop(size=(224, 224))\n",
              "    <function _convert_image_to_rgb at 0x788139a853f0>\n",
              "    ToTensor()\n",
              "    Normalize(mean=(0.48145466, 0.4578275, 0.40821073), std=(0.26862954, 0.26130258, 0.27577711))\n",
              ")"
            ]
          },
          "metadata": {},
          "execution_count": 10
        }
      ]
    },
    {
      "cell_type": "code",
      "source": [
        "# preprocessed_img\n",
        "text = \"a photo of a \"\n",
        "text_1 = text+\"mermaid\"\n",
        "text_2 = text+\"dog\"\n",
        "text_3 = text+\"cat\"\n",
        "text_4 = text+\"sea\"\n",
        "\n",
        "text_all = clip.tokenize([text_1, text_2, text_3, text_4]).cuda()\n",
        "\n",
        "text_1 = clip.tokenize(text_1).cuda()\n",
        "text_2 = clip.tokenize(text_2).cuda()\n",
        "with torch.no_grad():\n",
        "    text_features = [model.encode_text(text_1), model.encode_text(text_2)]\n",
        "    image_features = model.encode_image(preprocessed_img.unsqueeze(0))\n",
        "\n",
        "    logits_per_image, logits_per_text = model(preprocessed_img.unsqueeze(0), text_all)\n",
        "    probs = logits_per_image.softmax(dim=1).cpu().numpy()\n",
        "\n",
        "print(\"Probabilities: \", probs)\n"
      ],
      "metadata": {
        "colab": {
          "base_uri": "https://localhost:8080/"
        },
        "id": "2w_8eYtVqVFm",
        "outputId": "512faa37-0bec-4e01-99f2-fed798f5f6f0"
      },
      "execution_count": null,
      "outputs": [
        {
          "output_type": "stream",
          "name": "stdout",
          "text": [
            "Probabilities:  [[9.961e-01 4.768e-07 3.576e-07 4.005e-03]]\n"
          ]
        }
      ]
    },
    {
      "cell_type": "code",
      "source": [
        "print(image_features.shape)"
      ],
      "metadata": {
        "colab": {
          "base_uri": "https://localhost:8080/"
        },
        "id": "9UwGsWkxrYMm",
        "outputId": "98566d6b-e43b-4dcf-f7d5-60a14ccd1cc8"
      },
      "execution_count": null,
      "outputs": [
        {
          "output_type": "execute_result",
          "data": {
            "text/plain": [
              "torch.Size([1, 512])"
            ]
          },
          "metadata": {},
          "execution_count": 14
        }
      ]
    },
    {
      "cell_type": "code",
      "source": [
        "print(text_features[0].shape)"
      ],
      "metadata": {
        "colab": {
          "base_uri": "https://localhost:8080/"
        },
        "id": "zx8iSzB9ttPm",
        "outputId": "49287452-5a39-4222-8fc2-b8066deaaa75"
      },
      "execution_count": null,
      "outputs": [
        {
          "output_type": "stream",
          "name": "stdout",
          "text": [
            "torch.Size([1, 512])\n"
          ]
        }
      ]
    },
    {
      "cell_type": "code",
      "source": [],
      "metadata": {
        "id": "3OW9NEC2uZmY"
      },
      "execution_count": null,
      "outputs": []
    }
  ]
}